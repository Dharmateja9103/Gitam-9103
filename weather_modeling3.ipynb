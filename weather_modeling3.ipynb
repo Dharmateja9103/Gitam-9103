{
  "nbformat": 4,
  "nbformat_minor": 0,
  "metadata": {
    "colab": {
      "provenance": [],
      "authorship_tag": "ABX9TyM2LUVkd/rCFlpM5drExFPe",
      "include_colab_link": true
    },
    "kernelspec": {
      "name": "python3",
      "display_name": "Python 3"
    },
    "language_info": {
      "name": "python"
    }
  },
  "cells": [
    {
      "cell_type": "markdown",
      "metadata": {
        "id": "view-in-github",
        "colab_type": "text"
      },
      "source": [
        "<a href=\"https://colab.research.google.com/github/Dharmateja9103/Gitam-9103/blob/main/weather_modeling3.ipynb\" target=\"_parent\"><img src=\"https://colab.research.google.com/assets/colab-badge.svg\" alt=\"Open In Colab\"/></a>"
      ]
    },
    {
      "cell_type": "code",
      "execution_count": 5,
      "metadata": {
        "colab": {
          "base_uri": "https://localhost:8080/"
        },
        "id": "HxJrxBrEpY5j",
        "outputId": "5ff39950-0f80-439b-a312-c748bf69bdec"
      },
      "outputs": [
        {
          "output_type": "stream",
          "name": "stdout",
          "text": [
            "Enter the temperature (in Celsius): 40\n",
            "Enter the humidity (in percentage): 30\n",
            "The result is: 865.56\n"
          ]
        }
      ],
      "source": [
        "def calculate_weather_result(temperature, humidity):\n",
        "    if not (0 <= humidity <= 100):\n",
        "        raise ValueError(\"Humidity should be between 0 and 100 percent.\")\n",
        "    return (0.5 * (temperature ** 2) - 0.2 * humidity - 15) / 0.9\n",
        "\n",
        "\n",
        "def main():\n",
        "    try:\n",
        "        temperature = float(input(\"Enter the temperature (in Celsius): \"))\n",
        "        humidity = float(input(\"Enter the humidity (in percentage): \"))\n",
        "        result = calculate_weather_result(temperature, humidity)\n",
        "        print(f\"The result is: {result:.2f}\")\n",
        "    except ValueError as e:\n",
        "        print(f\"Error: {e}\")\n",
        "\n",
        "\n",
        "if __name__ == \"__main__\":\n",
        "  main()"
      ]
    }
  ]
}