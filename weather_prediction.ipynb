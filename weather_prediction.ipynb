{
  "nbformat": 4,
  "nbformat_minor": 0,
  "metadata": {
    "colab": {
      "provenance": [],
      "authorship_tag": "ABX9TyOWcZGvQkt+QOK2y5tXs+ZT",
      "include_colab_link": true
    },
    "kernelspec": {
      "name": "python3",
      "display_name": "Python 3"
    },
    "language_info": {
      "name": "python"
    }
  },
  "cells": [
    {
      "cell_type": "markdown",
      "metadata": {
        "id": "view-in-github",
        "colab_type": "text"
      },
      "source": [
        "<a href=\"https://colab.research.google.com/github/Dharmateja9103/skills-introduction-to-github/blob/main/weather_prediction.ipynb\" target=\"_parent\"><img src=\"https://colab.research.google.com/assets/colab-badge.svg\" alt=\"Open In Colab\"/></a>"
      ]
    },
    {
      "cell_type": "code",
      "execution_count": 4,
      "metadata": {
        "colab": {
          "base_uri": "https://localhost:8080/"
        },
        "id": "Phy83mj1kTzM",
        "outputId": "e8761a23-cc65-41a4-a0a3-2261a2d82072"
      },
      "outputs": [
        {
          "output_type": "stream",
          "name": "stdout",
          "text": [
            "Enter Temperature: 40\n",
            "Enter Humidity: 50\n",
            "Enter Wind Speed: 15\n",
            "Sunny\n"
          ]
        }
      ],
      "source": [
        "def get_weather_condition(t, h, wind):\n",
        "    \"\"\"Calculates weather condition based on temperature, humidity, and wind speed.\"\"\"\n",
        "    w = 0.5 * (t ** 2) - (0.2 * h) + (0.1 * wind) - 15\n",
        "    if w > 10:\n",
        "        return \"Sunny\"\n",
        "    elif 0 <= w <= 10:\n",
        "        return \"Windy\"\n",
        "    elif -10 <= w < 0:\n",
        "        return \"Cloud\"\n",
        "    elif w < -10:\n",
        "        return \"Rainy\"\n",
        "\n",
        "def process_user_input():\n",
        "    \"\"\"Processes user input and displays weather condition.\"\"\"\n",
        "    t = int(input('Enter Temperature: '))\n",
        "    h = int(input('Enter Humidity: '))\n",
        "    wind = int(input('Enter Wind Speed: '))\n",
        "    print(get_weather_condition(t, h, wind))\n",
        "\n",
        "def process_file_input(file_name):\n",
        "    \"\"\"Reads input data from a file and displays weather condition for each line.\"\"\"\n",
        "    try:\n",
        "        with open(file_name, 'r') as file:\n",
        "            lines = file.readlines()\n",
        "        for line in lines:\n",
        "            data = line.split()\n",
        "            t = int(data[0])\n",
        "            h = int(data[1])\n",
        "            wind = int(data[2])\n",
        "            print(get_weather_condition(t, h, wind))\n",
        "    except FileNotFoundError:\n",
        "        print(f\"Error: File '{file_name}' not found. Please make sure the file exists and the path is correct.\")\n",
        "\n",
        "\n",
        "process_user_input()\n",
        "\n",
        "try:\n",
        "    with open('weather_input.txt', 'r'):\n",
        "        pass\n",
        "except FileNotFoundError:\n",
        "    with open('weather_input.txt', 'w') as f:\n",
        "        pass"
      ]
    }
  ]
}