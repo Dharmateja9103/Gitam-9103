{
  "nbformat": 4,
  "nbformat_minor": 0,
  "metadata": {
    "colab": {
      "provenance": [],
      "authorship_tag": "ABX9TyOFk+Iavbe+Bmqlf4zkT2nX",
      "include_colab_link": true
    },
    "kernelspec": {
      "name": "python3",
      "display_name": "Python 3"
    },
    "language_info": {
      "name": "python"
    }
  },
  "cells": [
    {
      "cell_type": "markdown",
      "metadata": {
        "id": "view-in-github",
        "colab_type": "text"
      },
      "source": [
        "<a href=\"https://colab.research.google.com/github/Dharmateja9103/Gitam-9103/blob/main/weather_modeling2.ipynb\" target=\"_parent\"><img src=\"https://colab.research.google.com/assets/colab-badge.svg\" alt=\"Open In Colab\"/></a>"
      ]
    },
    {
      "cell_type": "code",
      "execution_count": 4,
      "metadata": {
        "colab": {
          "base_uri": "https://localhost:8080/"
        },
        "id": "HxJrxBrEpY5j",
        "outputId": "46bcd4af-a34a-4520-9f1c-f77e30e7bd43"
      },
      "outputs": [
        {
          "output_type": "stream",
          "name": "stdout",
          "text": [
            "Enter the temperature (in Celsius): 20\n",
            "Enter the humidity (in percentage): 50\n",
            "The calculated weather result is: 194.44\n"
          ]
        }
      ],
      "source": [
        "def calculate_weather_result(temperature, humidity):\n",
        "    \"\"\"\n",
        "    Function to calculate the weather model result using the quadratic equation:\n",
        "    result = (0.5 * t^2 - 0.2 * h - 15) / 0.9\n",
        "\n",
        "    :param temperature: Temperature (t) in Celsius\n",
        "    :param humidity: Humidity (h) in percentage\n",
        "    :return: result of the quadratic calculation\n",
        "    \"\"\"\n",
        "    result = (0.5 * (temperature ** 2) - 0.2 * humidity - 15) / 0.9\n",
        "    return result\n",
        "\n",
        "\n",
        "def main():\n",
        "    # User input for temperature and humidity\n",
        "    temperature = float(input(\"Enter the temperature (in Celsius): \"))\n",
        "    humidity = float(input(\"Enter the humidity (in percentage): \"))\n",
        "\n",
        "    # Calculate the result\n",
        "    result = calculate_weather_result(temperature, humidity)\n",
        "\n",
        "    # Display the result\n",
        "    print(f\"The calculated weather result is: {result:.2f}\")\n",
        "\n",
        "\n",
        "if __name__ == \"__main__\":\n",
        "  main()"
      ]
    }
  ]
}