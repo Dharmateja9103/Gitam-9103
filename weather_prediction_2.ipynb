{
  "nbformat": 4,
  "nbformat_minor": 0,
  "metadata": {
    "colab": {
      "provenance": [],
      "authorship_tag": "ABX9TyNc1yLDrhBKoqW6ZO3yeQ0t",
      "include_colab_link": true
    },
    "kernelspec": {
      "name": "python3",
      "display_name": "Python 3"
    },
    "language_info": {
      "name": "python"
    }
  },
  "cells": [
    {
      "cell_type": "markdown",
      "metadata": {
        "id": "view-in-github",
        "colab_type": "text"
      },
      "source": [
        "<a href=\"https://colab.research.google.com/github/Dharmateja9103/skills-introduction-to-github/blob/main/weather_prediction_2.ipynb\" target=\"_parent\"><img src=\"https://colab.research.google.com/assets/colab-badge.svg\" alt=\"Open In Colab\"/></a>"
      ]
    },
    {
      "cell_type": "code",
      "source": [
        "with open('weather_input.txt', 'r') as file:\n",
        "    data = file.read().split()\n",
        "\n",
        "# Check if data contains enough elements\n",
        "if len(data) < 3:\n",
        "    print(\"Error: Insufficient data in the file.\")\n",
        "else:\n",
        "    try:\n",
        "        # Parse the values from the data\n",
        "        t = int(data[0])\n",
        "        h = int(data[1])\n",
        "        wind = int(data[2])\n",
        "\n",
        "        # Calculate weather index\n",
        "        w = 0.5 * (t ** 2) - (0.2 * h) + (0.1 * wind) - 15\n",
        "\n",
        "        # Print weather condition based on the value of w\n",
        "        if w > 10:\n",
        "            print(\"Sunny\")\n",
        "        elif 0 <= w <= 10:\n",
        "            print(\"Windy\")\n",
        "        elif -10 <= w < 0:\n",
        "            print(\"Cloud\")\n",
        "        elif w < -10:\n",
        "            print(\"Rainy\")\n",
        "    except ValueError:\n",
        "        print(\"Error: The file contains invalid data (non-integer values).\")\n"
      ],
      "metadata": {
        "colab": {
          "base_uri": "https://localhost:8080/"
        },
        "id": "DCx6Ck06n9Ei",
        "outputId": "9d6df790-33f0-4cdb-bcbd-2a20076335a8"
      },
      "execution_count": null,
      "outputs": [
        {
          "output_type": "stream",
          "name": "stdout",
          "text": [
            "Sunny\n"
          ]
        }
      ]
    }
  ]
}