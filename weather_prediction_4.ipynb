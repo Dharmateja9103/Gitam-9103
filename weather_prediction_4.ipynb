{
  "nbformat": 4,
  "nbformat_minor": 0,
  "metadata": {
    "colab": {
      "provenance": [],
      "authorship_tag": "ABX9TyOcn4O+Vu6qJfpYHpX5xMmh",
      "include_colab_link": true
    },
    "kernelspec": {
      "name": "python3",
      "display_name": "Python 3"
    },
    "language_info": {
      "name": "python"
    }
  },
  "cells": [
    {
      "cell_type": "markdown",
      "metadata": {
        "id": "view-in-github",
        "colab_type": "text"
      },
      "source": [
        "<a href=\"https://colab.research.google.com/github/Dharmateja9103/skills-introduction-to-github/blob/main/weather_prediction_4.ipynb\" target=\"_parent\"><img src=\"https://colab.research.google.com/assets/colab-badge.svg\" alt=\"Open In Colab\"/></a>"
      ]
    },
    {
      "cell_type": "code",
      "source": [
        "with open('weather_input_multiple.txt', 'r') as file:\n",
        "    lines = file.readlines()\n",
        "for line in lines:\n",
        "    data = line.split()\n",
        "    t = int(data[0])\n",
        "    h = int(data[1])\n",
        "    wind = int(data[2])\n",
        "    w = 0.5 * (t ** 2) - (0.2 * h) + (0.1 * wind) - 15\n",
        "    if w > 10:\n",
        "        print(\"Sunny\")\n",
        "    elif 0 <= w <= 10:\n",
        "        print(\"Windy\")\n",
        "    elif -10 <= w < 0:\n",
        "        print(\"Cloud\")\n",
        "    elif w < -10:\n",
        "        print(\"Rainy\")"
      ],
      "metadata": {
        "colab": {
          "base_uri": "https://localhost:8080/"
        },
        "id": "CO8zkoa9pemh",
        "outputId": "c499b3c2-8ff9-41b3-f060-c6a9903c15d0"
      },
      "execution_count": 15,
      "outputs": [
        {
          "output_type": "stream",
          "name": "stdout",
          "text": [
            "Sunny\n",
            "Sunny\n",
            "Sunny\n",
            "Sunny\n",
            "Rainy\n",
            "Sunny\n",
            "Sunny\n",
            "Sunny\n",
            "Sunny\n",
            "Sunny\n",
            "Sunny\n",
            "Sunny\n",
            "Sunny\n",
            "Sunny\n",
            "Sunny\n",
            "Sunny\n",
            "Cloud\n",
            "Sunny\n",
            "Sunny\n",
            "Sunny\n"
          ]
        }
      ]
    }
  ]
}